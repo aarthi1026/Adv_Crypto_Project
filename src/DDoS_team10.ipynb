{
  "nbformat": 4,
  "nbformat_minor": 0,
  "metadata": {
    "colab": {
      "provenance": []
    },
    "kernelspec": {
      "name": "python3",
      "display_name": "Python 3"
    },
    "language_info": {
      "name": "python"
    }
  },
  "cells": [
    {
      "cell_type": "code",
      "execution_count": 1,
      "metadata": {
        "colab": {
          "base_uri": "https://localhost:8080/"
        },
        "id": "HkC_sWYGyTwk",
        "outputId": "69e46ba4-8eeb-4838-c472-efd1c3b58fd2"
      },
      "outputs": [
        {
          "output_type": "stream",
          "name": "stdout",
          "text": [
            "Looking in indexes: https://pypi.org/simple, https://us-python.pkg.dev/colab-wheels/public/simple/\n",
            "Collecting scapy\n",
            "  Downloading scapy-2.5.0.tar.gz (1.3 MB)\n",
            "\u001b[2K     \u001b[90m━━━━━━━━━━━━━━━━━━━━━━━━━━━━━━━━━━━━━━━━\u001b[0m \u001b[32m1.3/1.3 MB\u001b[0m \u001b[31m20.8 MB/s\u001b[0m eta \u001b[36m0:00:00\u001b[0m\n",
            "\u001b[?25h  Preparing metadata (setup.py) ... \u001b[?25l\u001b[?25hdone\n",
            "Building wheels for collected packages: scapy\n",
            "  Building wheel for scapy (setup.py) ... \u001b[?25l\u001b[?25hdone\n",
            "  Created wheel for scapy: filename=scapy-2.5.0-py2.py3-none-any.whl size=1444345 sha256=ec4a948c2d1171c4320768c24ef28a1af4b026dea6b3233a0e3475eab5662aa0\n",
            "  Stored in directory: /root/.cache/pip/wheels/82/b7/03/8344d8cf6695624746311bc0d389e9d05535ca83c35f90241d\n",
            "Successfully built scapy\n",
            "Installing collected packages: scapy\n",
            "Successfully installed scapy-2.5.0\n"
          ]
        }
      ],
      "source": [
        "pip install scapy"
      ]
    },
    {
      "cell_type": "code",
      "source": [
        "from scapy.all import *\n",
        "def capture_packets():\n",
        "    # Capture network packets using Scapy\n",
        "    packets = sniff(filter=\"ip\", count=100)\n",
        "    return packets"
      ],
      "metadata": {
        "id": "Kj1XzcjWyduZ"
      },
      "execution_count": 2,
      "outputs": []
    },
    {
      "cell_type": "code",
      "source": [
        "packets = capture_packets()\n",
        "print(packets)"
      ],
      "metadata": {
        "colab": {
          "base_uri": "https://localhost:8080/"
        },
        "id": "ArhkKKbAygv5",
        "outputId": "9bbbfbd2-faac-4ac7-b2ce-e03fe2bbc01c"
      },
      "execution_count": 3,
      "outputs": [
        {
          "output_type": "stream",
          "name": "stderr",
          "text": [
            "ERROR: Cannot set filter: libpcap is not available. Cannot compile filter !\n",
            "ERROR:scapy.runtime:Cannot set filter: libpcap is not available. Cannot compile filter !\n"
          ]
        },
        {
          "output_type": "stream",
          "name": "stdout",
          "text": [
            "<Sniffed: TCP:100 UDP:0 ICMP:0 Other:0>\n"
          ]
        }
      ]
    },
    {
      "cell_type": "code",
      "source": [
        "def extract_features(packets):\n",
        "    features = []\n",
        "    for packet in packets:\n",
        "        if IP in packet:\n",
        "            ip_src = packet[IP].src\n",
        "            ip_dst = packet[IP].dst\n",
        "            ip_len = packet[IP].len\n",
        "            ip_proto = packet[IP].proto\n",
        "        else:\n",
        "            continue\n",
        "        if TCP in packet:\n",
        "            tcp_sport = packet[TCP].sport\n",
        "            tcp_dport = packet[TCP].dport\n",
        "            tcp_flags = packet[TCP].flags\n",
        "        else:\n",
        "            tcp_sport = -1\n",
        "            tcp_dport = -1\n",
        "            tcp_flags = -1\n",
        "        if UDP in packet:\n",
        "            udp_sport = packet[UDP].sport\n",
        "            udp_dport = packet[UDP].dport\n",
        "        else:\n",
        "            udp_sport = -1\n",
        "            udp_dport = -1\n",
        "        features.append([ip_src, ip_dst, ip_len, ip_proto, tcp_sport, tcp_dport, tcp_flags, udp_sport, udp_dport])\n",
        "    return features"
      ],
      "metadata": {
        "id": "RlA1ubMRylfB"
      },
      "execution_count": 4,
      "outputs": []
    },
    {
      "cell_type": "code",
      "source": [
        "packets = capture_packets()\n",
        "features = extract_features(packets)"
      ],
      "metadata": {
        "colab": {
          "base_uri": "https://localhost:8080/"
        },
        "id": "hvC5Oe1UyrBJ",
        "outputId": "1bce4f47-73e9-4075-f88c-b94db25fd6a9"
      },
      "execution_count": 5,
      "outputs": [
        {
          "output_type": "stream",
          "name": "stderr",
          "text": [
            "ERROR: Cannot set filter: libpcap is not available. Cannot compile filter !\n",
            "ERROR:scapy.runtime:Cannot set filter: libpcap is not available. Cannot compile filter !\n"
          ]
        }
      ]
    },
    {
      "cell_type": "code",
      "source": [
        "def extract_features(packet):\n",
        "    features = {}\n",
        "    # Extract source and destination IP addresses\n",
        "    features['src_ip'] = packet[IP].src\n",
        "    features['dst_ip'] = packet[IP].dst\n",
        "    # Extract port numbers if the packet has a TCP layer\n",
        "    if packet.haslayer(TCP):\n",
        "        features['src_port'] = packet[TCP].sport\n",
        "        features['dst_port'] = packet[TCP].dport\n",
        "    # Extract packet length\n",
        "    features['length'] = len(packet)\n",
        "    return features"
      ],
      "metadata": {
        "id": "vNgKtHSSyzb_"
      },
      "execution_count": 6,
      "outputs": []
    },
    {
      "cell_type": "code",
      "source": [
        "features = []\n",
        "for packet in packets:\n",
        "    features.append(extract_features(packet))"
      ],
      "metadata": {
        "id": "9Deydi9Xy2qe"
      },
      "execution_count": 7,
      "outputs": []
    },
    {
      "cell_type": "code",
      "source": [
        "import pandas as pd\n",
        "\n",
        "# Convert extracted features to a dataframe\n",
        "df = pd.DataFrame(features)\n",
        "\n",
        "# Save dataframe to CSV file\n",
        "df.to_csv('captured_traffic.csv', index=False)"
      ],
      "metadata": {
        "id": "R9Ginw7Fy7Ee"
      },
      "execution_count": 8,
      "outputs": []
    },
    {
      "cell_type": "code",
      "source": [
        "df"
      ],
      "metadata": {
        "colab": {
          "base_uri": "https://localhost:8080/",
          "height": 423
        },
        "id": "NDAMPKv6y9wm",
        "outputId": "ffd3b60d-7daf-4a22-8c4e-4a360ab239cd"
      },
      "execution_count": 9,
      "outputs": [
        {
          "output_type": "execute_result",
          "data": {
            "text/plain": [
              "         src_ip       dst_ip  src_port  dst_port  length\n",
              "0    172.28.0.1  172.28.0.12     39934      8080     960\n",
              "1   172.28.0.12   172.28.0.1      8080     39934      66\n",
              "2   172.28.0.12   172.28.0.1      8080     39934     826\n",
              "3    172.28.0.1  172.28.0.12     39934      8080      66\n",
              "4    172.28.0.1  172.28.0.12     39934      8080     960\n",
              "..          ...          ...       ...       ...     ...\n",
              "95   172.28.0.1  172.28.0.12     54576      8080      66\n",
              "96   172.28.0.1  172.28.0.12     54576      8080     960\n",
              "97   172.28.0.1  172.28.0.12     53680      8080    1065\n",
              "98  172.28.0.12   172.28.0.1      8080     53680      66\n",
              "99   172.28.0.1  172.28.0.12     53680      8080    1051\n",
              "\n",
              "[100 rows x 5 columns]"
            ],
            "text/html": [
              "\n",
              "  <div id=\"df-ad206f08-d739-4f56-80a6-114421547d80\">\n",
              "    <div class=\"colab-df-container\">\n",
              "      <div>\n",
              "<style scoped>\n",
              "    .dataframe tbody tr th:only-of-type {\n",
              "        vertical-align: middle;\n",
              "    }\n",
              "\n",
              "    .dataframe tbody tr th {\n",
              "        vertical-align: top;\n",
              "    }\n",
              "\n",
              "    .dataframe thead th {\n",
              "        text-align: right;\n",
              "    }\n",
              "</style>\n",
              "<table border=\"1\" class=\"dataframe\">\n",
              "  <thead>\n",
              "    <tr style=\"text-align: right;\">\n",
              "      <th></th>\n",
              "      <th>src_ip</th>\n",
              "      <th>dst_ip</th>\n",
              "      <th>src_port</th>\n",
              "      <th>dst_port</th>\n",
              "      <th>length</th>\n",
              "    </tr>\n",
              "  </thead>\n",
              "  <tbody>\n",
              "    <tr>\n",
              "      <th>0</th>\n",
              "      <td>172.28.0.1</td>\n",
              "      <td>172.28.0.12</td>\n",
              "      <td>39934</td>\n",
              "      <td>8080</td>\n",
              "      <td>960</td>\n",
              "    </tr>\n",
              "    <tr>\n",
              "      <th>1</th>\n",
              "      <td>172.28.0.12</td>\n",
              "      <td>172.28.0.1</td>\n",
              "      <td>8080</td>\n",
              "      <td>39934</td>\n",
              "      <td>66</td>\n",
              "    </tr>\n",
              "    <tr>\n",
              "      <th>2</th>\n",
              "      <td>172.28.0.12</td>\n",
              "      <td>172.28.0.1</td>\n",
              "      <td>8080</td>\n",
              "      <td>39934</td>\n",
              "      <td>826</td>\n",
              "    </tr>\n",
              "    <tr>\n",
              "      <th>3</th>\n",
              "      <td>172.28.0.1</td>\n",
              "      <td>172.28.0.12</td>\n",
              "      <td>39934</td>\n",
              "      <td>8080</td>\n",
              "      <td>66</td>\n",
              "    </tr>\n",
              "    <tr>\n",
              "      <th>4</th>\n",
              "      <td>172.28.0.1</td>\n",
              "      <td>172.28.0.12</td>\n",
              "      <td>39934</td>\n",
              "      <td>8080</td>\n",
              "      <td>960</td>\n",
              "    </tr>\n",
              "    <tr>\n",
              "      <th>...</th>\n",
              "      <td>...</td>\n",
              "      <td>...</td>\n",
              "      <td>...</td>\n",
              "      <td>...</td>\n",
              "      <td>...</td>\n",
              "    </tr>\n",
              "    <tr>\n",
              "      <th>95</th>\n",
              "      <td>172.28.0.1</td>\n",
              "      <td>172.28.0.12</td>\n",
              "      <td>54576</td>\n",
              "      <td>8080</td>\n",
              "      <td>66</td>\n",
              "    </tr>\n",
              "    <tr>\n",
              "      <th>96</th>\n",
              "      <td>172.28.0.1</td>\n",
              "      <td>172.28.0.12</td>\n",
              "      <td>54576</td>\n",
              "      <td>8080</td>\n",
              "      <td>960</td>\n",
              "    </tr>\n",
              "    <tr>\n",
              "      <th>97</th>\n",
              "      <td>172.28.0.1</td>\n",
              "      <td>172.28.0.12</td>\n",
              "      <td>53680</td>\n",
              "      <td>8080</td>\n",
              "      <td>1065</td>\n",
              "    </tr>\n",
              "    <tr>\n",
              "      <th>98</th>\n",
              "      <td>172.28.0.12</td>\n",
              "      <td>172.28.0.1</td>\n",
              "      <td>8080</td>\n",
              "      <td>53680</td>\n",
              "      <td>66</td>\n",
              "    </tr>\n",
              "    <tr>\n",
              "      <th>99</th>\n",
              "      <td>172.28.0.1</td>\n",
              "      <td>172.28.0.12</td>\n",
              "      <td>53680</td>\n",
              "      <td>8080</td>\n",
              "      <td>1051</td>\n",
              "    </tr>\n",
              "  </tbody>\n",
              "</table>\n",
              "<p>100 rows × 5 columns</p>\n",
              "</div>\n",
              "      <button class=\"colab-df-convert\" onclick=\"convertToInteractive('df-ad206f08-d739-4f56-80a6-114421547d80')\"\n",
              "              title=\"Convert this dataframe to an interactive table.\"\n",
              "              style=\"display:none;\">\n",
              "        \n",
              "  <svg xmlns=\"http://www.w3.org/2000/svg\" height=\"24px\"viewBox=\"0 0 24 24\"\n",
              "       width=\"24px\">\n",
              "    <path d=\"M0 0h24v24H0V0z\" fill=\"none\"/>\n",
              "    <path d=\"M18.56 5.44l.94 2.06.94-2.06 2.06-.94-2.06-.94-.94-2.06-.94 2.06-2.06.94zm-11 1L8.5 8.5l.94-2.06 2.06-.94-2.06-.94L8.5 2.5l-.94 2.06-2.06.94zm10 10l.94 2.06.94-2.06 2.06-.94-2.06-.94-.94-2.06-.94 2.06-2.06.94z\"/><path d=\"M17.41 7.96l-1.37-1.37c-.4-.4-.92-.59-1.43-.59-.52 0-1.04.2-1.43.59L10.3 9.45l-7.72 7.72c-.78.78-.78 2.05 0 2.83L4 21.41c.39.39.9.59 1.41.59.51 0 1.02-.2 1.41-.59l7.78-7.78 2.81-2.81c.8-.78.8-2.07 0-2.86zM5.41 20L4 18.59l7.72-7.72 1.47 1.35L5.41 20z\"/>\n",
              "  </svg>\n",
              "      </button>\n",
              "      \n",
              "  <style>\n",
              "    .colab-df-container {\n",
              "      display:flex;\n",
              "      flex-wrap:wrap;\n",
              "      gap: 12px;\n",
              "    }\n",
              "\n",
              "    .colab-df-convert {\n",
              "      background-color: #E8F0FE;\n",
              "      border: none;\n",
              "      border-radius: 50%;\n",
              "      cursor: pointer;\n",
              "      display: none;\n",
              "      fill: #1967D2;\n",
              "      height: 32px;\n",
              "      padding: 0 0 0 0;\n",
              "      width: 32px;\n",
              "    }\n",
              "\n",
              "    .colab-df-convert:hover {\n",
              "      background-color: #E2EBFA;\n",
              "      box-shadow: 0px 1px 2px rgba(60, 64, 67, 0.3), 0px 1px 3px 1px rgba(60, 64, 67, 0.15);\n",
              "      fill: #174EA6;\n",
              "    }\n",
              "\n",
              "    [theme=dark] .colab-df-convert {\n",
              "      background-color: #3B4455;\n",
              "      fill: #D2E3FC;\n",
              "    }\n",
              "\n",
              "    [theme=dark] .colab-df-convert:hover {\n",
              "      background-color: #434B5C;\n",
              "      box-shadow: 0px 1px 3px 1px rgba(0, 0, 0, 0.15);\n",
              "      filter: drop-shadow(0px 1px 2px rgba(0, 0, 0, 0.3));\n",
              "      fill: #FFFFFF;\n",
              "    }\n",
              "  </style>\n",
              "\n",
              "      <script>\n",
              "        const buttonEl =\n",
              "          document.querySelector('#df-ad206f08-d739-4f56-80a6-114421547d80 button.colab-df-convert');\n",
              "        buttonEl.style.display =\n",
              "          google.colab.kernel.accessAllowed ? 'block' : 'none';\n",
              "\n",
              "        async function convertToInteractive(key) {\n",
              "          const element = document.querySelector('#df-ad206f08-d739-4f56-80a6-114421547d80');\n",
              "          const dataTable =\n",
              "            await google.colab.kernel.invokeFunction('convertToInteractive',\n",
              "                                                     [key], {});\n",
              "          if (!dataTable) return;\n",
              "\n",
              "          const docLinkHtml = 'Like what you see? Visit the ' +\n",
              "            '<a target=\"_blank\" href=https://colab.research.google.com/notebooks/data_table.ipynb>data table notebook</a>'\n",
              "            + ' to learn more about interactive tables.';\n",
              "          element.innerHTML = '';\n",
              "          dataTable['output_type'] = 'display_data';\n",
              "          await google.colab.output.renderOutput(dataTable, element);\n",
              "          const docLink = document.createElement('div');\n",
              "          docLink.innerHTML = docLinkHtml;\n",
              "          element.appendChild(docLink);\n",
              "        }\n",
              "      </script>\n",
              "    </div>\n",
              "  </div>\n",
              "  "
            ]
          },
          "metadata": {},
          "execution_count": 9
        }
      ]
    },
    {
      "cell_type": "code",
      "source": [
        "def detect_attack(packet):\n",
        "    \"\"\"\n",
        "    Determine the type of attack based on the packet.\n",
        "    \"\"\"\n",
        "    # Check if the packet is a SYN Flood attack\n",
        "    if TCP in packet and packet[TCP].flags == \"S\":\n",
        "        return \"SYN_Flood\"\n",
        "    # Check if the packet is a UDP Flood attack\n",
        "    elif UDP in packet:\n",
        "        return \"UDP_Flood\"\n",
        "    # Otherwise, assume normal traffic\n",
        "    else:\n",
        "        return \"Normal\""
      ],
      "metadata": {
        "id": "gT3ZCRNCzAt5"
      },
      "execution_count": 10,
      "outputs": []
    },
    {
      "cell_type": "code",
      "source": [
        "from sklearn.model_selection import train_test_split\n",
        "\n",
        "# Define the target variable\n",
        "labels = [detect_attack(packet) for packet in packets]\n",
        "\n",
        "# Split the data into training and testing sets\n",
        "X_train, X_test, y_train, y_test = train_test_split(features, labels, test_size=0.3, random_state=42)"
      ],
      "metadata": {
        "id": "bVO-Mu64zFx9"
      },
      "execution_count": 11,
      "outputs": []
    },
    {
      "cell_type": "code",
      "source": [
        "import ipaddress\n",
        "\n",
        "def ip_to_int(ip_address):\n",
        "    return int(ipaddress.IPv4Address(ip_address))\n",
        "\n",
        "# Convert IP addresses to integers\n",
        "print(X_train)\n",
        "print(y_train)\n",
        "X_train = pd.DataFrame(X_train)\n",
        "X_test = pd.DataFrame(X_test)\n",
        "X_train['src_ip'] = X_train['src_ip'].apply(ip_to_int)\n",
        "X_test['src_ip'] = X_test['src_ip'].apply(ip_to_int)\n",
        "X_train['dst_ip'] = X_train['dst_ip'].apply(ip_to_int)\n",
        "X_test['dst_ip'] = X_test['dst_ip'].apply(ip_to_int)"
      ],
      "metadata": {
        "colab": {
          "base_uri": "https://localhost:8080/"
        },
        "id": "0xOhowUszIua",
        "outputId": "4abe0d58-c51b-4a63-b999-a016372b14e1"
      },
      "execution_count": 12,
      "outputs": [
        {
          "output_type": "stream",
          "name": "stdout",
          "text": [
            "[{'src_ip': '172.28.0.1', 'dst_ip': '172.28.0.12', 'src_port': 39934, 'dst_port': 8080, 'length': 66}, {'src_ip': '172.28.0.12', 'dst_ip': '172.28.0.1', 'src_port': 8080, 'dst_port': 39934, 'length': 388}, {'src_ip': '172.28.0.12', 'dst_ip': '172.28.0.1', 'src_port': 8080, 'dst_port': 53680, 'length': 388}, {'src_ip': '172.28.0.1', 'dst_ip': '172.28.0.12', 'src_port': 39934, 'dst_port': 8080, 'length': 66}, {'src_ip': '172.28.0.12', 'dst_ip': '172.28.0.1', 'src_port': 8080, 'dst_port': 53680, 'length': 388}, {'src_ip': '172.28.0.12', 'dst_ip': '172.28.0.1', 'src_port': 8080, 'dst_port': 39934, 'length': 1246}, {'src_ip': '172.28.0.1', 'dst_ip': '172.28.0.12', 'src_port': 54576, 'dst_port': 8080, 'length': 66}, {'src_ip': '172.28.0.12', 'dst_ip': '172.28.0.1', 'src_port': 8080, 'dst_port': 54576, 'length': 351}, {'src_ip': '172.28.0.12', 'dst_ip': '172.28.0.1', 'src_port': 8080, 'dst_port': 53680, 'length': 66}, {'src_ip': '172.28.0.1', 'dst_ip': '172.28.0.12', 'src_port': 39934, 'dst_port': 8080, 'length': 121}, {'src_ip': '172.28.0.1', 'dst_ip': '172.28.0.12', 'src_port': 39934, 'dst_port': 8080, 'length': 910}, {'src_ip': '172.28.0.1', 'dst_ip': '172.28.0.12', 'src_port': 53680, 'dst_port': 8080, 'length': 408}, {'src_ip': '172.28.0.1', 'dst_ip': '172.28.0.12', 'src_port': 39934, 'dst_port': 8080, 'length': 1065}, {'src_ip': '172.28.0.1', 'dst_ip': '172.28.0.12', 'src_port': 54576, 'dst_port': 8080, 'length': 66}, {'src_ip': '172.28.0.12', 'dst_ip': '172.28.0.1', 'src_port': 8080, 'dst_port': 39934, 'length': 1269}, {'src_ip': '172.28.0.1', 'dst_ip': '172.28.0.12', 'src_port': 39934, 'dst_port': 8080, 'length': 66}, {'src_ip': '172.28.0.1', 'dst_ip': '172.28.0.12', 'src_port': 54576, 'dst_port': 8080, 'length': 390}, {'src_ip': '172.28.0.12', 'dst_ip': '172.28.0.1', 'src_port': 8080, 'dst_port': 53680, 'length': 351}, {'src_ip': '172.28.0.12', 'dst_ip': '172.28.0.1', 'src_port': 8080, 'dst_port': 54576, 'length': 66}, {'src_ip': '172.28.0.12', 'dst_ip': '172.28.0.1', 'src_port': 8080, 'dst_port': 39934, 'length': 675}, {'src_ip': '172.28.0.12', 'dst_ip': '172.28.0.1', 'src_port': 8080, 'dst_port': 53680, 'length': 66}, {'src_ip': '172.28.0.1', 'dst_ip': '172.28.0.12', 'src_port': 39934, 'dst_port': 8080, 'length': 66}, {'src_ip': '172.28.0.12', 'dst_ip': '172.28.0.1', 'src_port': 8080, 'dst_port': 39934, 'length': 66}, {'src_ip': '172.28.0.12', 'dst_ip': '172.28.0.1', 'src_port': 8080, 'dst_port': 39934, 'length': 864}, {'src_ip': '172.28.0.1', 'dst_ip': '172.28.0.12', 'src_port': 39934, 'dst_port': 8080, 'length': 199}, {'src_ip': '172.28.0.1', 'dst_ip': '172.28.0.12', 'src_port': 53680, 'dst_port': 8080, 'length': 960}, {'src_ip': '172.28.0.1', 'dst_ip': '172.28.0.12', 'src_port': 39934, 'dst_port': 8080, 'length': 66}, {'src_ip': '172.28.0.12', 'dst_ip': '172.28.0.1', 'src_port': 8080, 'dst_port': 54576, 'length': 66}, {'src_ip': '172.28.0.12', 'dst_ip': '172.28.0.1', 'src_port': 8080, 'dst_port': 53680, 'length': 351}, {'src_ip': '172.28.0.1', 'dst_ip': '172.28.0.12', 'src_port': 54576, 'dst_port': 8080, 'length': 1065}, {'src_ip': '172.28.0.1', 'dst_ip': '172.28.0.12', 'src_port': 53680, 'dst_port': 8080, 'length': 960}, {'src_ip': '172.28.0.1', 'dst_ip': '172.28.0.12', 'src_port': 53680, 'dst_port': 8080, 'length': 1051}, {'src_ip': '172.28.0.12', 'dst_ip': '172.28.0.1', 'src_port': 8080, 'dst_port': 39934, 'length': 66}, {'src_ip': '172.28.0.1', 'dst_ip': '172.28.0.12', 'src_port': 53680, 'dst_port': 8080, 'length': 390}, {'src_ip': '172.28.0.12', 'dst_ip': '172.28.0.1', 'src_port': 8080, 'dst_port': 39934, 'length': 66}, {'src_ip': '172.28.0.1', 'dst_ip': '172.28.0.12', 'src_port': 54576, 'dst_port': 8080, 'length': 1065}, {'src_ip': '172.28.0.1', 'dst_ip': '172.28.0.12', 'src_port': 53680, 'dst_port': 8080, 'length': 66}, {'src_ip': '172.28.0.1', 'dst_ip': '172.28.0.12', 'src_port': 54576, 'dst_port': 8080, 'length': 390}, {'src_ip': '172.28.0.1', 'dst_ip': '172.28.0.12', 'src_port': 54576, 'dst_port': 8080, 'length': 1065}, {'src_ip': '172.28.0.1', 'dst_ip': '172.28.0.12', 'src_port': 53680, 'dst_port': 8080, 'length': 1065}, {'src_ip': '172.28.0.12', 'dst_ip': '172.28.0.1', 'src_port': 8080, 'dst_port': 53680, 'length': 66}, {'src_ip': '172.28.0.12', 'dst_ip': '172.28.0.1', 'src_port': 8080, 'dst_port': 39934, 'length': 66}, {'src_ip': '172.28.0.1', 'dst_ip': '172.28.0.12', 'src_port': 54576, 'dst_port': 8080, 'length': 74}, {'src_ip': '172.28.0.1', 'dst_ip': '172.28.0.12', 'src_port': 39934, 'dst_port': 8080, 'length': 66}, {'src_ip': '172.28.0.12', 'dst_ip': '172.28.0.1', 'src_port': 8080, 'dst_port': 53680, 'length': 66}, {'src_ip': '172.28.0.12', 'dst_ip': '172.28.0.1', 'src_port': 8080, 'dst_port': 53680, 'length': 66}, {'src_ip': '172.28.0.12', 'dst_ip': '172.28.0.1', 'src_port': 8080, 'dst_port': 53680, 'length': 66}, {'src_ip': '172.28.0.1', 'dst_ip': '172.28.0.12', 'src_port': 51318, 'dst_port': 6000, 'length': 66}, {'src_ip': '172.28.0.1', 'dst_ip': '172.28.0.12', 'src_port': 53680, 'dst_port': 8080, 'length': 66}, {'src_ip': '172.28.0.12', 'dst_ip': '172.28.0.1', 'src_port': 8080, 'dst_port': 54576, 'length': 74}, {'src_ip': '172.28.0.1', 'dst_ip': '172.28.0.12', 'src_port': 54576, 'dst_port': 8080, 'length': 866}, {'src_ip': '172.28.0.1', 'dst_ip': '172.28.0.12', 'src_port': 54576, 'dst_port': 8080, 'length': 66}, {'src_ip': '172.28.0.1', 'dst_ip': '172.28.0.12', 'src_port': 53680, 'dst_port': 8080, 'length': 66}, {'src_ip': '172.28.0.1', 'dst_ip': '172.28.0.12', 'src_port': 39934, 'dst_port': 8080, 'length': 960}, {'src_ip': '172.28.0.12', 'dst_ip': '172.28.0.1', 'src_port': 8080, 'dst_port': 39934, 'length': 66}, {'src_ip': '172.28.0.1', 'dst_ip': '172.28.0.12', 'src_port': 39934, 'dst_port': 8080, 'length': 66}, {'src_ip': '172.28.0.12', 'dst_ip': '172.28.0.1', 'src_port': 8080, 'dst_port': 39934, 'length': 66}, {'src_ip': '172.28.0.12', 'dst_ip': '172.28.0.1', 'src_port': 8080, 'dst_port': 39934, 'length': 826}, {'src_ip': '172.28.0.1', 'dst_ip': '172.28.0.12', 'src_port': 53680, 'dst_port': 8080, 'length': 171}, {'src_ip': '172.28.0.1', 'dst_ip': '172.28.0.12', 'src_port': 53680, 'dst_port': 8080, 'length': 960}, {'src_ip': '172.28.0.12', 'dst_ip': '172.28.0.1', 'src_port': 8080, 'dst_port': 54576, 'length': 66}, {'src_ip': '172.28.0.1', 'dst_ip': '172.28.0.12', 'src_port': 53680, 'dst_port': 8080, 'length': 960}, {'src_ip': '172.28.0.1', 'dst_ip': '172.28.0.12', 'src_port': 53680, 'dst_port': 8080, 'length': 66}, {'src_ip': '172.28.0.12', 'dst_ip': '172.28.0.1', 'src_port': 8080, 'dst_port': 54576, 'length': 66}, {'src_ip': '172.28.0.1', 'dst_ip': '172.28.0.12', 'src_port': 39934, 'dst_port': 8080, 'length': 960}, {'src_ip': '172.28.0.1', 'dst_ip': '172.28.0.12', 'src_port': 54576, 'dst_port': 8080, 'length': 66}, {'src_ip': '172.28.0.1', 'dst_ip': '172.28.0.12', 'src_port': 54576, 'dst_port': 8080, 'length': 66}, {'src_ip': '172.28.0.1', 'dst_ip': '172.28.0.12', 'src_port': 39934, 'dst_port': 8080, 'length': 66}, {'src_ip': '172.28.0.12', 'dst_ip': '172.28.0.1', 'src_port': 8080, 'dst_port': 54576, 'length': 351}, {'src_ip': '172.28.0.12', 'dst_ip': '172.28.0.1', 'src_port': 8080, 'dst_port': 39934, 'length': 626}]\n",
            "['Normal', 'Normal', 'Normal', 'Normal', 'Normal', 'Normal', 'Normal', 'Normal', 'Normal', 'Normal', 'Normal', 'Normal', 'Normal', 'Normal', 'Normal', 'Normal', 'Normal', 'Normal', 'Normal', 'Normal', 'Normal', 'Normal', 'Normal', 'Normal', 'Normal', 'Normal', 'Normal', 'Normal', 'Normal', 'Normal', 'Normal', 'Normal', 'Normal', 'Normal', 'Normal', 'Normal', 'Normal', 'Normal', 'Normal', 'Normal', 'Normal', 'Normal', 'SYN_Flood', 'Normal', 'Normal', 'Normal', 'Normal', 'Normal', 'Normal', 'Normal', 'Normal', 'Normal', 'Normal', 'Normal', 'Normal', 'Normal', 'Normal', 'Normal', 'Normal', 'Normal', 'Normal', 'Normal', 'Normal', 'Normal', 'Normal', 'Normal', 'Normal', 'Normal', 'Normal', 'Normal']\n"
          ]
        }
      ]
    },
    {
      "cell_type": "code",
      "source": [
        "from inspect import modulesbyfile\n",
        "# Import the LogisticRegression class\n",
        "from sklearn.linear_model import LogisticRegression\n",
        "\n",
        "# Create an instance of the LogisticRegression class\n",
        "model = LogisticRegression()\n",
        "\n",
        "# Train the model using the training data\n",
        "model.fit(X_train, y_train)\n",
        "\n",
        "# Make predictions on the test data\n",
        "y_pred = model.predict(X_test)\n",
        "\n"
      ],
      "metadata": {
        "id": "E4iJGGBdzLdg"
      },
      "execution_count": 13,
      "outputs": []
    },
    {
      "cell_type": "code",
      "source": [
        "# Evaluate the performance of the model\n",
        "from sklearn.metrics import accuracy_score\n",
        "accuracy = accuracy_score(y_test, y_pred)\n",
        "print(f\"Accuracy: {accuracy}\")"
      ],
      "metadata": {
        "colab": {
          "base_uri": "https://localhost:8080/"
        },
        "id": "JPuy_XXHzOuH",
        "outputId": "5b3e3d4d-9f6b-4608-9fe4-96235f116cb0"
      },
      "execution_count": 14,
      "outputs": [
        {
          "output_type": "stream",
          "name": "stdout",
          "text": [
            "Accuracy: 1.0\n"
          ]
        }
      ]
    },
    {
      "cell_type": "code",
      "source": [
        "from scapy.all import *\n",
        "import numpy as np\n",
        "\n",
        "# Initialize the list of packets\n",
        "packets = []\n",
        "\n",
        "def extract_features(packet):\n",
        "    \"\"\"\n",
        "    Extract relevant features from a packet.\n",
        "    \"\"\"\n",
        "    features = {}\n",
        "    # Check if the packet contains an IP layer\n",
        "    if IP in packet:\n",
        "        # Extract source and destination IP addresses\n",
        "        features['src_ip'] = packet[IP].src\n",
        "        features['dst_ip'] = packet[IP].dst\n",
        "        # Check if the packet contains a TCP layer\n",
        "        if TCP in packet:\n",
        "            # Extract port numbers\n",
        "            features['src_port'] = packet[TCP].sport\n",
        "            features['dst_port'] = packet[TCP].dport\n",
        "            # Extract the TCP flags\n",
        "            features['flags'] = packet[TCP].flags\n",
        "        # Check if the packet contains a UDP layer\n",
        "        elif UDP in packet:\n",
        "            # Extract port numbers\n",
        "            features['src_port'] = packet[UDP].sport\n",
        "            features['dst_port'] = packet[UDP].dport\n",
        "        # Check if the packet contains an ICMP layer\n",
        "        elif ICMP in packet:\n",
        "            # Extract the ICMP type and code\n",
        "            features['type'] = packet[ICMP].type\n",
        "            features['code'] = packet[ICMP].code\n",
        "    return features\n",
        "\n",
        "def handle_packet(packet):\n",
        "    \"\"\"\n",
        "    Callback function for processing packets.\n",
        "    \"\"\"\n",
        "    # Extract features from the packet\n",
        "    features = extract_features(packet)\n",
        "    # Append the features to the list of packets\n",
        "    packets.append(features)\n",
        "\n",
        "# Start the packet sniffer\n",
        "sniff(prn=handle_packet, count=100)\n",
        "\n",
        "# Convert the list of packets to a numpy array\n",
        "data = np.array(packets)\n",
        "\n",
        "# Print the data\n",
        "print(data)\n"
      ],
      "metadata": {
        "colab": {
          "base_uri": "https://localhost:8080/"
        },
        "id": "ilMdVBJQzR0I",
        "outputId": "a7773601-dfac-4ab6-d1ca-7731ffcf1073"
      },
      "execution_count": 15,
      "outputs": [
        {
          "output_type": "stream",
          "name": "stdout",
          "text": [
            "[{'src_ip': '172.28.0.1', 'dst_ip': '172.28.0.12', 'src_port': 33532, 'dst_port': 8080, 'flags': <Flag 24 (PA)>}\n",
            " {'src_ip': '172.28.0.12', 'dst_ip': '172.28.0.1', 'src_port': 8080, 'dst_port': 33532, 'flags': <Flag 16 (A)>}\n",
            " {'src_ip': '172.28.0.12', 'dst_ip': '172.28.0.1', 'src_port': 8080, 'dst_port': 33532, 'flags': <Flag 24 (PA)>}\n",
            " {'src_ip': '172.28.0.1', 'dst_ip': '172.28.0.12', 'src_port': 33532, 'dst_port': 8080, 'flags': <Flag 16 (A)>}\n",
            " {'src_ip': '172.28.0.1', 'dst_ip': '172.28.0.12', 'src_port': 33532, 'dst_port': 8080, 'flags': <Flag 24 (PA)>}\n",
            " {'src_ip': '172.28.0.1', 'dst_ip': '172.28.0.12', 'src_port': 33532, 'dst_port': 8080, 'flags': <Flag 24 (PA)>}\n",
            " {'src_ip': '172.28.0.12', 'dst_ip': '172.28.0.1', 'src_port': 8080, 'dst_port': 33532, 'flags': <Flag 16 (A)>}\n",
            " {'src_ip': '172.28.0.12', 'dst_ip': '172.28.0.1', 'src_port': 8080, 'dst_port': 33532, 'flags': <Flag 24 (PA)>}\n",
            " {'src_ip': '172.28.0.1', 'dst_ip': '172.28.0.12', 'src_port': 33532, 'dst_port': 8080, 'flags': <Flag 16 (A)>}\n",
            " {'src_ip': '172.28.0.1', 'dst_ip': '172.28.0.12', 'src_port': 33532, 'dst_port': 8080, 'flags': <Flag 24 (PA)>}\n",
            " {'src_ip': '172.28.0.12', 'dst_ip': '172.28.0.1', 'src_port': 8080, 'dst_port': 33532, 'flags': <Flag 16 (A)>}\n",
            " {'src_ip': '172.28.0.12', 'dst_ip': '172.28.0.1', 'src_port': 8080, 'dst_port': 33532, 'flags': <Flag 24 (PA)>}\n",
            " {'src_ip': '172.28.0.1', 'dst_ip': '172.28.0.12', 'src_port': 33532, 'dst_port': 8080, 'flags': <Flag 16 (A)>}\n",
            " {'src_ip': '172.28.0.1', 'dst_ip': '172.28.0.12', 'src_port': 33532, 'dst_port': 8080, 'flags': <Flag 24 (PA)>}\n",
            " {'src_ip': '172.28.0.12', 'dst_ip': '172.28.0.1', 'src_port': 8080, 'dst_port': 33532, 'flags': <Flag 16 (A)>}\n",
            " {'src_ip': '172.28.0.1', 'dst_ip': '172.28.0.12', 'src_port': 33532, 'dst_port': 8080, 'flags': <Flag 24 (PA)>}\n",
            " {'src_ip': '172.28.0.12', 'dst_ip': '172.28.0.1', 'src_port': 8080, 'dst_port': 33532, 'flags': <Flag 16 (A)>}\n",
            " {'src_ip': '172.28.0.12', 'dst_ip': '172.28.0.1', 'src_port': 8080, 'dst_port': 33532, 'flags': <Flag 24 (PA)>}\n",
            " {'src_ip': '172.28.0.1', 'dst_ip': '172.28.0.12', 'src_port': 33532, 'dst_port': 8080, 'flags': <Flag 16 (A)>}\n",
            " {'src_ip': '172.28.0.1', 'dst_ip': '172.28.0.12', 'src_port': 33532, 'dst_port': 8080, 'flags': <Flag 24 (PA)>}\n",
            " {'src_ip': '172.28.0.12', 'dst_ip': '172.28.0.1', 'src_port': 8080, 'dst_port': 33532, 'flags': <Flag 16 (A)>}\n",
            " {'src_ip': '172.28.0.12', 'dst_ip': '172.28.0.1', 'src_port': 8080, 'dst_port': 33532, 'flags': <Flag 24 (PA)>}\n",
            " {'src_ip': '172.28.0.1', 'dst_ip': '172.28.0.12', 'src_port': 33532, 'dst_port': 8080, 'flags': <Flag 16 (A)>}\n",
            " {'src_ip': '172.28.0.1', 'dst_ip': '172.28.0.12', 'src_port': 33532, 'dst_port': 8080, 'flags': <Flag 24 (PA)>}\n",
            " {'src_ip': '172.28.0.12', 'dst_ip': '172.28.0.1', 'src_port': 8080, 'dst_port': 33532, 'flags': <Flag 16 (A)>}\n",
            " {'src_ip': '172.28.0.1', 'dst_ip': '172.28.0.12', 'src_port': 33532, 'dst_port': 8080, 'flags': <Flag 24 (PA)>}\n",
            " {'src_ip': '172.28.0.12', 'dst_ip': '172.28.0.1', 'src_port': 8080, 'dst_port': 33532, 'flags': <Flag 16 (A)>}\n",
            " {'src_ip': '172.28.0.12', 'dst_ip': '172.28.0.1', 'src_port': 8080, 'dst_port': 33532, 'flags': <Flag 24 (PA)>}\n",
            " {'src_ip': '172.28.0.1', 'dst_ip': '172.28.0.12', 'src_port': 33532, 'dst_port': 8080, 'flags': <Flag 16 (A)>}\n",
            " {'src_ip': '172.28.0.1', 'dst_ip': '172.28.0.12', 'src_port': 33532, 'dst_port': 8080, 'flags': <Flag 24 (PA)>}\n",
            " {'src_ip': '172.28.0.12', 'dst_ip': '172.28.0.1', 'src_port': 8080, 'dst_port': 33532, 'flags': <Flag 16 (A)>}\n",
            " {'src_ip': '172.28.0.1', 'dst_ip': '172.28.0.12', 'src_port': 33542, 'dst_port': 8080, 'flags': <Flag 24 (PA)>}\n",
            " {'src_ip': '172.28.0.1', 'dst_ip': '172.28.0.12', 'src_port': 33542, 'dst_port': 8080, 'flags': <Flag 24 (PA)>}\n",
            " {'src_ip': '172.28.0.12', 'dst_ip': '172.28.0.1', 'src_port': 8080, 'dst_port': 33542, 'flags': <Flag 16 (A)>}\n",
            " {'src_ip': '172.28.0.12', 'dst_ip': '172.28.0.1', 'src_port': 8080, 'dst_port': 33542, 'flags': <Flag 24 (PA)>}\n",
            " {'src_ip': '172.28.0.1', 'dst_ip': '172.28.0.12', 'src_port': 33542, 'dst_port': 8080, 'flags': <Flag 16 (A)>}\n",
            " {'src_ip': '172.28.0.12', 'dst_ip': '172.28.0.1', 'src_port': 8080, 'dst_port': 33532, 'flags': <Flag 24 (PA)>}\n",
            " {'src_ip': '172.28.0.1', 'dst_ip': '172.28.0.12', 'src_port': 33532, 'dst_port': 8080, 'flags': <Flag 16 (A)>}\n",
            " {'src_ip': '172.28.0.1', 'dst_ip': '172.28.0.12', 'src_port': 33532, 'dst_port': 8080, 'flags': <Flag 24 (PA)>}\n",
            " {'src_ip': '172.28.0.12', 'dst_ip': '172.28.0.1', 'src_port': 8080, 'dst_port': 33532, 'flags': <Flag 16 (A)>}\n",
            " {'src_ip': '172.28.0.12', 'dst_ip': '172.28.0.1', 'src_port': 8080, 'dst_port': 33532, 'flags': <Flag 24 (PA)>}\n",
            " {'src_ip': '172.28.0.1', 'dst_ip': '172.28.0.12', 'src_port': 33532, 'dst_port': 8080, 'flags': <Flag 16 (A)>}\n",
            " {'src_ip': '172.28.0.1', 'dst_ip': '172.28.0.12', 'src_port': 33532, 'dst_port': 8080, 'flags': <Flag 17 (FA)>}\n",
            " {'src_ip': '172.28.0.12', 'dst_ip': '172.28.0.1', 'src_port': 8080, 'dst_port': 33532, 'flags': <Flag 17 (FA)>}\n",
            " {'src_ip': '172.28.0.1', 'dst_ip': '172.28.0.12', 'src_port': 33532, 'dst_port': 8080, 'flags': <Flag 16 (A)>}\n",
            " {'src_ip': '172.28.0.1', 'dst_ip': '172.28.0.12', 'src_port': 33542, 'dst_port': 8080, 'flags': <Flag 24 (PA)>}\n",
            " {'src_ip': '172.28.0.12', 'dst_ip': '172.28.0.1', 'src_port': 8080, 'dst_port': 33542, 'flags': <Flag 16 (A)>}\n",
            " {'src_ip': '172.28.0.1', 'dst_ip': '172.28.0.12', 'src_port': 51318, 'dst_port': 6000, 'flags': <Flag 24 (PA)>}\n",
            " {'src_ip': '172.28.0.12', 'dst_ip': '172.28.0.1', 'src_port': 6000, 'dst_port': 51318, 'flags': <Flag 24 (PA)>}\n",
            " {'src_ip': '172.28.0.1', 'dst_ip': '172.28.0.12', 'src_port': 51318, 'dst_port': 6000, 'flags': <Flag 16 (A)>}\n",
            " {'src_ip': '172.28.0.12', 'dst_ip': '172.28.0.1', 'src_port': 6000, 'dst_port': 51318, 'flags': <Flag 24 (PA)>}\n",
            " {'src_ip': '172.28.0.1', 'dst_ip': '172.28.0.12', 'src_port': 51318, 'dst_port': 6000, 'flags': <Flag 16 (A)>}\n",
            " {'src_ip': '172.28.0.1', 'dst_ip': '172.28.0.12', 'src_port': 42024, 'dst_port': 8080, 'flags': <Flag 2 (S)>}\n",
            " {'src_ip': '172.28.0.12', 'dst_ip': '172.28.0.1', 'src_port': 8080, 'dst_port': 42024, 'flags': <Flag 18 (SA)>}\n",
            " {'src_ip': '172.28.0.1', 'dst_ip': '172.28.0.12', 'src_port': 42024, 'dst_port': 8080, 'flags': <Flag 16 (A)>}\n",
            " {'src_ip': '172.28.0.1', 'dst_ip': '172.28.0.12', 'src_port': 42024, 'dst_port': 8080, 'flags': <Flag 24 (PA)>}\n",
            " {'src_ip': '172.28.0.12', 'dst_ip': '172.28.0.1', 'src_port': 8080, 'dst_port': 42024, 'flags': <Flag 16 (A)>}\n",
            " {'src_ip': '172.28.0.12', 'dst_ip': '172.28.0.1', 'src_port': 8080, 'dst_port': 42024, 'flags': <Flag 24 (PA)>}\n",
            " {'src_ip': '172.28.0.1', 'dst_ip': '172.28.0.12', 'src_port': 42024, 'dst_port': 8080, 'flags': <Flag 16 (A)>}\n",
            " {'src_ip': '172.28.0.12', 'dst_ip': '172.28.0.1', 'src_port': 8080, 'dst_port': 42024, 'flags': <Flag 17 (FA)>}\n",
            " {'src_ip': '172.28.0.1', 'dst_ip': '172.28.0.12', 'src_port': 42024, 'dst_port': 8080, 'flags': <Flag 17 (FA)>}\n",
            " {'src_ip': '172.28.0.12', 'dst_ip': '172.28.0.1', 'src_port': 8080, 'dst_port': 42024, 'flags': <Flag 16 (A)>}\n",
            " {'src_ip': '172.28.0.1', 'dst_ip': '172.28.0.12', 'src_port': 42032, 'dst_port': 8080, 'flags': <Flag 2 (S)>}\n",
            " {'src_ip': '172.28.0.12', 'dst_ip': '172.28.0.1', 'src_port': 8080, 'dst_port': 42032, 'flags': <Flag 18 (SA)>}\n",
            " {'src_ip': '172.28.0.1', 'dst_ip': '172.28.0.12', 'src_port': 42032, 'dst_port': 8080, 'flags': <Flag 16 (A)>}\n",
            " {'src_ip': '172.28.0.1', 'dst_ip': '172.28.0.12', 'src_port': 42032, 'dst_port': 8080, 'flags': <Flag 24 (PA)>}\n",
            " {'src_ip': '172.28.0.12', 'dst_ip': '172.28.0.1', 'src_port': 8080, 'dst_port': 42032, 'flags': <Flag 16 (A)>}\n",
            " {'src_ip': '172.28.0.12', 'dst_ip': '172.28.0.1', 'src_port': 8080, 'dst_port': 42032, 'flags': <Flag 24 (PA)>}\n",
            " {'src_ip': '172.28.0.1', 'dst_ip': '172.28.0.12', 'src_port': 42032, 'dst_port': 8080, 'flags': <Flag 16 (A)>}\n",
            " {'src_ip': '172.28.0.1', 'dst_ip': '172.28.0.12', 'src_port': 42032, 'dst_port': 8080, 'flags': <Flag 17 (FA)>}\n",
            " {'src_ip': '172.28.0.12', 'dst_ip': '172.28.0.1', 'src_port': 8080, 'dst_port': 42032, 'flags': <Flag 17 (FA)>}\n",
            " {'src_ip': '172.28.0.1', 'dst_ip': '172.28.0.12', 'src_port': 42032, 'dst_port': 8080, 'flags': <Flag 16 (A)>}\n",
            " {'src_ip': '172.28.0.1', 'dst_ip': '172.28.0.12', 'src_port': 42046, 'dst_port': 8080, 'flags': <Flag 2 (S)>}\n",
            " {'src_ip': '172.28.0.12', 'dst_ip': '172.28.0.1', 'src_port': 8080, 'dst_port': 42046, 'flags': <Flag 18 (SA)>}\n",
            " {'src_ip': '172.28.0.1', 'dst_ip': '172.28.0.12', 'src_port': 42046, 'dst_port': 8080, 'flags': <Flag 16 (A)>}\n",
            " {'src_ip': '172.28.0.1', 'dst_ip': '172.28.0.12', 'src_port': 42046, 'dst_port': 8080, 'flags': <Flag 24 (PA)>}\n",
            " {'src_ip': '172.28.0.12', 'dst_ip': '172.28.0.1', 'src_port': 8080, 'dst_port': 42046, 'flags': <Flag 16 (A)>}\n",
            " {'src_ip': '172.28.0.1', 'dst_ip': '172.28.0.12', 'src_port': 42046, 'dst_port': 8080, 'flags': <Flag 24 (PA)>}\n",
            " {'src_ip': '172.28.0.12', 'dst_ip': '172.28.0.1', 'src_port': 8080, 'dst_port': 42046, 'flags': <Flag 16 (A)>}\n",
            " {'src_ip': '172.28.0.12', 'dst_ip': '172.28.0.1', 'src_port': 8080, 'dst_port': 42046, 'flags': <Flag 24 (PA)>}\n",
            " {'src_ip': '172.28.0.1', 'dst_ip': '172.28.0.12', 'src_port': 42046, 'dst_port': 8080, 'flags': <Flag 16 (A)>}\n",
            " {'src_ip': '172.28.0.12', 'dst_ip': '172.28.0.1', 'src_port': 8080, 'dst_port': 33542, 'flags': <Flag 24 (PA)>}\n",
            " {'src_ip': '172.28.0.1', 'dst_ip': '172.28.0.12', 'src_port': 33542, 'dst_port': 8080, 'flags': <Flag 16 (A)>}\n",
            " {'src_ip': '172.28.0.1', 'dst_ip': '172.28.0.12', 'src_port': 42046, 'dst_port': 8080, 'flags': <Flag 24 (PA)>}\n",
            " {'src_ip': '172.28.0.1', 'dst_ip': '172.28.0.12', 'src_port': 42046, 'dst_port': 8080, 'flags': <Flag 24 (PA)>}\n",
            " {'src_ip': '172.28.0.12', 'dst_ip': '172.28.0.1', 'src_port': 8080, 'dst_port': 42046, 'flags': <Flag 16 (A)>}\n",
            " {'src_ip': '172.28.0.12', 'dst_ip': '172.28.0.1', 'src_port': 8080, 'dst_port': 42046, 'flags': <Flag 24 (PA)>}\n",
            " {'src_ip': '172.28.0.1', 'dst_ip': '172.28.0.12', 'src_port': 42046, 'dst_port': 8080, 'flags': <Flag 16 (A)>}\n",
            " {'src_ip': '172.28.0.1', 'dst_ip': '172.28.0.12', 'src_port': 42046, 'dst_port': 8080, 'flags': <Flag 24 (PA)>}\n",
            " {'src_ip': '172.28.0.12', 'dst_ip': '172.28.0.1', 'src_port': 8080, 'dst_port': 42046, 'flags': <Flag 24 (PA)>}\n",
            " {'src_ip': '172.28.0.1', 'dst_ip': '172.28.0.12', 'src_port': 42046, 'dst_port': 8080, 'flags': <Flag 16 (A)>}\n",
            " {'src_ip': '172.28.0.1', 'dst_ip': '172.28.0.12', 'src_port': 42046, 'dst_port': 8080, 'flags': <Flag 24 (PA)>}\n",
            " {'src_ip': '172.28.0.1', 'dst_ip': '172.28.0.12', 'src_port': 42046, 'dst_port': 8080, 'flags': <Flag 24 (PA)>}\n",
            " {'src_ip': '172.28.0.12', 'dst_ip': '172.28.0.1', 'src_port': 8080, 'dst_port': 42046, 'flags': <Flag 16 (A)>}\n",
            " {'src_ip': '172.28.0.12', 'dst_ip': '172.28.0.1', 'src_port': 8080, 'dst_port': 42046, 'flags': <Flag 24 (PA)>}\n",
            " {'src_ip': '172.28.0.1', 'dst_ip': '172.28.0.12', 'src_port': 42046, 'dst_port': 8080, 'flags': <Flag 16 (A)>}\n",
            " {'src_ip': '172.28.0.1', 'dst_ip': '172.28.0.12', 'src_port': 42046, 'dst_port': 8080, 'flags': <Flag 24 (PA)>}\n",
            " {'src_ip': '172.28.0.12', 'dst_ip': '172.28.0.1', 'src_port': 8080, 'dst_port': 42046, 'flags': <Flag 24 (PA)>}\n",
            " {'src_ip': '172.28.0.1', 'dst_ip': '172.28.0.12', 'src_port': 42046, 'dst_port': 8080, 'flags': <Flag 16 (A)>}\n",
            " {'src_ip': '172.28.0.1', 'dst_ip': '172.28.0.12', 'src_port': 42046, 'dst_port': 8080, 'flags': <Flag 24 (PA)>}]\n"
          ]
        }
      ]
    },
    {
      "cell_type": "markdown",
      "source": [
        "# New Section"
      ],
      "metadata": {
        "id": "lJdmn_nMzZV1"
      }
    },
    {
      "cell_type": "markdown",
      "source": [
        "# New Section"
      ],
      "metadata": {
        "id": "1Jy2g0XTzZ0Q"
      }
    }
  ]
}